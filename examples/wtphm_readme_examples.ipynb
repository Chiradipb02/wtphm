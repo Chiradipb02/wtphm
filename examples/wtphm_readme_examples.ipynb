{
 "cells": [
  {
   "cell_type": "markdown",
   "metadata": {},
   "source": [
    "# Overview\n",
    "This notebook serves as a user guide and examples for the `wtphm` package.\n",
    "\n",
    "More will be added to it."
   ]
  },
  {
   "cell_type": "markdown",
   "metadata": {},
   "source": [
<<<<<<< HEAD
    "# `get_grouped_event_data`\n",
=======
    "# Grouping together similar events\n",
>>>>>>> add_batch_labelling
    "\n",
    "The `get_grouped_event_data` function groups together similar faults or events, and turns them into the \"same\" event.\n",
    "\n",
    "An example would be faults across different pitch motors on different turbine blades being grouped as the same type of fault. This is useful, as there typically _very_ fault samples on wind turbines, so treating these as three separate types of faults would give even fewer samples for each class."
   ]
  },
  {
   "cell_type": "code",
<<<<<<< HEAD
   "execution_count": 3,
=======
   "execution_count": 18,
>>>>>>> add_batch_labelling
   "metadata": {},
   "outputs": [
    {
     "data": {
      "text/html": [
       "<div>\n",
       "<style scoped>\n",
       "    .dataframe tbody tr th:only-of-type {\n",
       "        vertical-align: middle;\n",
       "    }\n",
       "\n",
       "    .dataframe tbody tr th {\n",
       "        vertical-align: top;\n",
       "    }\n",
       "\n",
       "    .dataframe thead th {\n",
       "        text-align: right;\n",
       "    }\n",
       "</style>\n",
       "<table border=\"1\" class=\"dataframe\">\n",
       "  <thead>\n",
       "    <tr style=\"text-align: right;\">\n",
       "      <th></th>\n",
       "      <th>turbine_num</th>\n",
       "      <th>code</th>\n",
       "      <th>time_on</th>\n",
       "      <th>time_off</th>\n",
       "      <th>duration</th>\n",
       "      <th>stop_cat</th>\n",
       "      <th>description</th>\n",
       "    </tr>\n",
       "  </thead>\n",
       "  <tbody>\n",
       "    <tr>\n",
       "      <th>0</th>\n",
       "      <td>2</td>\n",
       "      <td>9</td>\n",
       "      <td>2015-11-01 00:03:56</td>\n",
       "      <td>2015-11-01 00:23:56</td>\n",
       "      <td>00:20:00</td>\n",
       "      <td>ok</td>\n",
       "      <td>description anonymised</td>\n",
       "    </tr>\n",
       "    <tr>\n",
       "      <th>1</th>\n",
       "      <td>15</td>\n",
       "      <td>93</td>\n",
       "      <td>2015-11-01 00:04:45</td>\n",
       "      <td>2015-11-01 00:05:47</td>\n",
       "      <td>00:01:02</td>\n",
       "      <td>ok</td>\n",
       "      <td>description anonymised</td>\n",
       "    </tr>\n",
       "    <tr>\n",
       "      <th>2</th>\n",
       "      <td>15</td>\n",
       "      <td>97</td>\n",
       "      <td>2015-11-01 00:05:47</td>\n",
       "      <td>2015-11-01 00:34:37</td>\n",
       "      <td>00:28:50</td>\n",
       "      <td>ok</td>\n",
       "      <td>description anonymised</td>\n",
       "    </tr>\n",
       "    <tr>\n",
       "      <th>3</th>\n",
       "      <td>9</td>\n",
       "      <td>93</td>\n",
       "      <td>2015-11-01 00:07:12</td>\n",
       "      <td>2015-11-01 00:08:14</td>\n",
       "      <td>00:01:02</td>\n",
       "      <td>ok</td>\n",
       "      <td>description anonymised</td>\n",
       "    </tr>\n",
       "    <tr>\n",
       "      <th>4</th>\n",
       "      <td>11</td>\n",
       "      <td>93</td>\n",
       "      <td>2015-11-01 00:07:46</td>\n",
       "      <td>2015-11-01 00:08:48</td>\n",
       "      <td>00:01:02</td>\n",
       "      <td>ok</td>\n",
       "      <td>description anonymised</td>\n",
       "    </tr>\n",
       "  </tbody>\n",
       "</table>\n",
       "</div>"
      ],
      "text/plain": [
       "   turbine_num  code             time_on            time_off duration  \\\n",
       "0            2     9 2015-11-01 00:03:56 2015-11-01 00:23:56 00:20:00   \n",
       "1           15    93 2015-11-01 00:04:45 2015-11-01 00:05:47 00:01:02   \n",
       "2           15    97 2015-11-01 00:05:47 2015-11-01 00:34:37 00:28:50   \n",
       "3            9    93 2015-11-01 00:07:12 2015-11-01 00:08:14 00:01:02   \n",
       "4           11    93 2015-11-01 00:07:46 2015-11-01 00:08:48 00:01:02   \n",
       "\n",
       "  stop_cat             description  \n",
       "0       ok  description anonymised  \n",
       "1       ok  description anonymised  \n",
       "2       ok  description anonymised  \n",
       "3       ok  description anonymised  \n",
       "4       ok  description anonymised  "
      ]
     },
<<<<<<< HEAD
     "execution_count": 3,
=======
     "execution_count": 18,
>>>>>>> add_batch_labelling
     "metadata": {},
     "output_type": "execute_result"
    }
   ],
   "source": [
    "import wtphm\n",
    "import pandas as pd\n",
    "\n",
    "# to fully display the dataframes:\n",
    "pd.set_option('display.max_colwidth', 100)\n",
    "\n",
    "events = pd.read_csv('examples/events_data.csv',\n",
    "                     parse_dates=['time_on', 'time_off'])\n",
    "events.duration = pd.to_timedelta(events.duration)\n",
    "\n",
    "events.head()"
   ]
  },
  {
<<<<<<< HEAD
=======
   "cell_type": "code",
   "execution_count": 19,
   "metadata": {},
   "outputs": [
    {
     "data": {
      "text/plain": [
       "array(['ok', 'sensor', 'maintenance', 'fault_pt', 'test', 'fault_fc',\n",
       "       'grid', 'fault_misc', 'fault_bk', 'fault_az', 'curtailed',\n",
       "       'fault_tower', 'fault_battery', 'fault_gn', 'fault_gb'],\n",
       "      dtype=object)"
      ]
     },
     "execution_count": 19,
     "metadata": {},
     "output_type": "execute_result"
    }
   ],
   "source": [
    "events.stop_cat.unique()"
   ]
  },
  {
>>>>>>> add_batch_labelling
   "cell_type": "markdown",
   "metadata": {},
   "source": [
    "Note the `events` data used in the examples here is anonymised - all codes have been mapped to a random set of numbers, and descriptions have been removed"
   ]
  },
  {
   "cell_type": "code",
<<<<<<< HEAD
   "execution_count": 4,
=======
   "execution_count": 28,
>>>>>>> add_batch_labelling
   "metadata": {},
   "outputs": [
    {
     "data": {
      "text/html": [
       "<div>\n",
       "<style scoped>\n",
       "    .dataframe tbody tr th:only-of-type {\n",
       "        vertical-align: middle;\n",
       "    }\n",
       "\n",
       "    .dataframe tbody tr th {\n",
       "        vertical-align: top;\n",
       "    }\n",
       "\n",
       "    .dataframe thead th {\n",
       "        text-align: right;\n",
       "    }\n",
       "</style>\n",
       "<table border=\"1\" class=\"dataframe\">\n",
       "  <thead>\n",
       "    <tr style=\"text-align: right;\">\n",
       "      <th></th>\n",
       "      <th>turbine_num</th>\n",
       "      <th>code</th>\n",
       "      <th>time_on</th>\n",
       "      <th>time_off</th>\n",
       "      <th>duration</th>\n",
       "      <th>stop_cat</th>\n",
       "      <th>description</th>\n",
       "    </tr>\n",
       "  </thead>\n",
       "  <tbody>\n",
       "    <tr>\n",
       "      <th>946</th>\n",
       "      <td>2</td>\n",
       "      <td>502</td>\n",
       "      <td>2015-11-01 21:04:26</td>\n",
       "      <td>2015-11-01 21:04:36</td>\n",
       "      <td>00:00:10</td>\n",
<<<<<<< HEAD
       "      <td>fault</td>\n",
=======
       "      <td>fault_pt</td>\n",
>>>>>>> add_batch_labelling
       "      <td>description anonymised pitch axis 3</td>\n",
       "    </tr>\n",
       "    <tr>\n",
       "      <th>948</th>\n",
       "      <td>2</td>\n",
       "      <td>601</td>\n",
       "      <td>2015-11-01 21:04:28</td>\n",
       "      <td>2015-11-01 21:04:36</td>\n",
       "      <td>00:00:08</td>\n",
<<<<<<< HEAD
       "      <td>fault</td>\n",
=======
       "      <td>fault_pt</td>\n",
>>>>>>> add_batch_labelling
       "      <td>description anonymised pitch axis 2</td>\n",
       "    </tr>\n",
       "    <tr>\n",
       "      <th>953</th>\n",
       "      <td>2</td>\n",
       "      <td>601</td>\n",
       "      <td>2015-11-01 21:04:36</td>\n",
       "      <td>2015-11-01 21:04:36</td>\n",
       "      <td>00:00:00</td>\n",
<<<<<<< HEAD
       "      <td>fault</td>\n",
       "      <td>description anonymised pitch axis 2</td>\n",
       "    </tr>\n",
       "    <tr>\n",
       "      <th>954</th>\n",
       "      <td>2</td>\n",
       "      <td>601</td>\n",
       "      <td>2015-11-01 21:04:36</td>\n",
       "      <td>2015-11-01 21:04:36</td>\n",
       "      <td>00:00:00</td>\n",
       "      <td>fault</td>\n",
       "      <td>description anonymised pitch axis 2</td>\n",
       "    </tr>\n",
       "    <tr>\n",
       "      <th>955</th>\n",
=======
       "      <td>fault_pt</td>\n",
       "      <td>description anonymised pitch axis 2</td>\n",
       "    </tr>\n",
       "    <tr>\n",
       "      <th>965</th>\n",
       "      <td>2</td>\n",
       "      <td>600</td>\n",
       "      <td>2015-11-01 21:04:36</td>\n",
       "      <td>2015-11-01 21:04:36</td>\n",
       "      <td>00:00:00</td>\n",
       "      <td>fault_pt</td>\n",
       "      <td>description anonymised pitch axis 1</td>\n",
       "    </tr>\n",
       "    <tr>\n",
       "      <th>966</th>\n",
>>>>>>> add_batch_labelling
       "      <td>2</td>\n",
       "      <td>600</td>\n",
       "      <td>2015-11-01 21:04:36</td>\n",
       "      <td>2015-11-01 21:04:36</td>\n",
       "      <td>00:00:00</td>\n",
<<<<<<< HEAD
       "      <td>fault</td>\n",
=======
       "      <td>fault_pt</td>\n",
>>>>>>> add_batch_labelling
       "      <td>description anonymised pitch axis 1</td>\n",
       "    </tr>\n",
       "  </tbody>\n",
       "</table>\n",
       "</div>"
      ],
      "text/plain": [
       "     turbine_num  code             time_on            time_off duration  \\\n",
       "946            2   502 2015-11-01 21:04:26 2015-11-01 21:04:36 00:00:10   \n",
       "948            2   601 2015-11-01 21:04:28 2015-11-01 21:04:36 00:00:08   \n",
       "953            2   601 2015-11-01 21:04:36 2015-11-01 21:04:36 00:00:00   \n",
<<<<<<< HEAD
       "954            2   601 2015-11-01 21:04:36 2015-11-01 21:04:36 00:00:00   \n",
       "955            2   600 2015-11-01 21:04:36 2015-11-01 21:04:36 00:00:00   \n",
       "\n",
       "    stop_cat                          description  \n",
       "946    fault  description anonymised pitch axis 3  \n",
       "948    fault  description anonymised pitch axis 2  \n",
       "953    fault  description anonymised pitch axis 2  \n",
       "954    fault  description anonymised pitch axis 2  \n",
       "955    fault  description anonymised pitch axis 1  "
      ]
     },
     "execution_count": 4,
=======
       "965            2   600 2015-11-01 21:04:36 2015-11-01 21:04:36 00:00:00   \n",
       "966            2   600 2015-11-01 21:04:36 2015-11-01 21:04:36 00:00:00   \n",
       "\n",
       "     stop_cat                          description  \n",
       "946  fault_pt  description anonymised pitch axis 3  \n",
       "948  fault_pt  description anonymised pitch axis 2  \n",
       "953  fault_pt  description anonymised pitch axis 2  \n",
       "965  fault_pt  description anonymised pitch axis 1  \n",
       "966  fault_pt  description anonymised pitch axis 1  "
      ]
     },
     "execution_count": 28,
>>>>>>> add_batch_labelling
     "metadata": {},
     "output_type": "execute_result"
    }
   ],
   "source": [
    "# codes that cause the turbine to come to a stop\n",
<<<<<<< HEAD
    "stop_codes = events[events.stop_cat.isin(\n",
    "    ['fault', 'maintenance', 'test', 'sensor', 'grid'])].code.unique()\n",
=======
    "stop_codes = events[(events.stop_cat.isin(\n",
    "    ['maintenance', 'test', 'sensor', 'grid'])) |\n",
    "                    (events.stop_cat.str.contains('fault'))]\\\n",
    "    .code.unique()\n",
>>>>>>> add_batch_labelling
    "\n",
    "# these are groups of codes, where each group represents a set of pitch-related\n",
    "# events, where each memeber of the set represents the same event but along a\n",
    "# different blade axis\n",
    "pitch_code_groups = [[300, 301, 302], [400, 401], [500, 501, 502], [600, 601],\n",
    "                     [700, 701, 702]]\n",
    "\n",
    "events[events.code.isin([i for s in pitch_code_groups for i in s])].head()"
   ]
  },
  {
   "cell_type": "markdown",
   "metadata": {},
   "source": [
    "As can be seen, the events data has a number of different codes for data along different pitch axes.\n",
    "\n",
    "Below, we group these together as the same code:"
   ]
  },
  {
   "cell_type": "code",
<<<<<<< HEAD
   "execution_count": 5,
=======
   "execution_count": 29,
>>>>>>> add_batch_labelling
   "metadata": {},
   "outputs": [
    {
     "data": {
      "text/html": [
       "<div>\n",
       "<style scoped>\n",
       "    .dataframe tbody tr th:only-of-type {\n",
       "        vertical-align: middle;\n",
       "    }\n",
       "\n",
       "    .dataframe tbody tr th {\n",
       "        vertical-align: top;\n",
       "    }\n",
       "\n",
       "    .dataframe thead th {\n",
       "        text-align: right;\n",
       "    }\n",
       "</style>\n",
       "<table border=\"1\" class=\"dataframe\">\n",
       "  <thead>\n",
       "    <tr style=\"text-align: right;\">\n",
       "      <th></th>\n",
       "      <th>turbine_num</th>\n",
       "      <th>code</th>\n",
       "      <th>time_on</th>\n",
       "      <th>time_off</th>\n",
       "      <th>duration</th>\n",
       "      <th>stop_cat</th>\n",
       "      <th>description</th>\n",
       "    </tr>\n",
       "  </thead>\n",
       "  <tbody>\n",
       "    <tr>\n",
       "      <th>946</th>\n",
       "      <td>2</td>\n",
       "      <td>500</td>\n",
       "      <td>2015-11-01 21:04:26</td>\n",
       "      <td>2015-11-01 21:04:36</td>\n",
       "      <td>00:00:10</td>\n",
<<<<<<< HEAD
       "      <td>fault</td>\n",
=======
       "      <td>fault_pt</td>\n",
>>>>>>> add_batch_labelling
       "      <td>description anonymised pitch axis 1/2/3 (original codes 500/501/502)</td>\n",
       "    </tr>\n",
       "    <tr>\n",
       "      <th>948</th>\n",
       "      <td>2</td>\n",
       "      <td>600</td>\n",
       "      <td>2015-11-01 21:04:28</td>\n",
       "      <td>2015-11-01 21:04:36</td>\n",
       "      <td>00:00:08</td>\n",
<<<<<<< HEAD
       "      <td>fault</td>\n",
       "      <td>description anonymised pitch axis 1/2 (original codes 600/601)</td>\n",
       "    </tr>\n",
       "    <tr>\n",
       "      <th>963</th>\n",
=======
       "      <td>fault_pt</td>\n",
       "      <td>description anonymised pitch axis 1/2 (original codes 600/601)</td>\n",
       "    </tr>\n",
       "    <tr>\n",
       "      <th>970</th>\n",
>>>>>>> add_batch_labelling
       "      <td>2</td>\n",
       "      <td>600</td>\n",
       "      <td>2015-11-01 21:04:36</td>\n",
       "      <td>2015-11-01 21:04:36</td>\n",
       "      <td>00:00:00</td>\n",
<<<<<<< HEAD
       "      <td>fault</td>\n",
       "      <td>description anonymised pitch axis 1/2 (original codes 600/601)</td>\n",
       "    </tr>\n",
       "    <tr>\n",
       "      <th>954</th>\n",
=======
       "      <td>fault_pt</td>\n",
       "      <td>description anonymised pitch axis 1/2 (original codes 600/601)</td>\n",
       "    </tr>\n",
       "    <tr>\n",
       "      <th>969</th>\n",
>>>>>>> add_batch_labelling
       "      <td>2</td>\n",
       "      <td>600</td>\n",
       "      <td>2015-11-01 21:04:36</td>\n",
       "      <td>2015-11-01 21:04:36</td>\n",
       "      <td>00:00:00</td>\n",
<<<<<<< HEAD
       "      <td>fault</td>\n",
       "      <td>description anonymised pitch axis 1/2 (original codes 600/601)</td>\n",
       "    </tr>\n",
       "    <tr>\n",
       "      <th>953</th>\n",
=======
       "      <td>fault_pt</td>\n",
       "      <td>description anonymised pitch axis 1/2 (original codes 600/601)</td>\n",
       "    </tr>\n",
       "    <tr>\n",
       "      <th>968</th>\n",
>>>>>>> add_batch_labelling
       "      <td>2</td>\n",
       "      <td>600</td>\n",
       "      <td>2015-11-01 21:04:36</td>\n",
       "      <td>2015-11-01 21:04:36</td>\n",
       "      <td>00:00:00</td>\n",
<<<<<<< HEAD
       "      <td>fault</td>\n",
=======
       "      <td>fault_pt</td>\n",
>>>>>>> add_batch_labelling
       "      <td>description anonymised pitch axis 1/2 (original codes 600/601)</td>\n",
       "    </tr>\n",
       "  </tbody>\n",
       "</table>\n",
       "</div>"
      ],
      "text/plain": [
       "     turbine_num  code             time_on            time_off duration  \\\n",
       "946            2   500 2015-11-01 21:04:26 2015-11-01 21:04:36 00:00:10   \n",
       "948            2   600 2015-11-01 21:04:28 2015-11-01 21:04:36 00:00:08   \n",
<<<<<<< HEAD
       "963            2   600 2015-11-01 21:04:36 2015-11-01 21:04:36 00:00:00   \n",
       "954            2   600 2015-11-01 21:04:36 2015-11-01 21:04:36 00:00:00   \n",
       "953            2   600 2015-11-01 21:04:36 2015-11-01 21:04:36 00:00:00   \n",
       "\n",
       "    stop_cat  \\\n",
       "946    fault   \n",
       "948    fault   \n",
       "963    fault   \n",
       "954    fault   \n",
       "953    fault   \n",
=======
       "970            2   600 2015-11-01 21:04:36 2015-11-01 21:04:36 00:00:00   \n",
       "969            2   600 2015-11-01 21:04:36 2015-11-01 21:04:36 00:00:00   \n",
       "968            2   600 2015-11-01 21:04:36 2015-11-01 21:04:36 00:00:00   \n",
       "\n",
       "     stop_cat  \\\n",
       "946  fault_pt   \n",
       "948  fault_pt   \n",
       "970  fault_pt   \n",
       "969  fault_pt   \n",
       "968  fault_pt   \n",
>>>>>>> add_batch_labelling
       "\n",
       "                                                              description  \n",
       "946  description anonymised pitch axis 1/2/3 (original codes 500/501/502)  \n",
       "948        description anonymised pitch axis 1/2 (original codes 600/601)  \n",
<<<<<<< HEAD
       "963        description anonymised pitch axis 1/2 (original codes 600/601)  \n",
       "954        description anonymised pitch axis 1/2 (original codes 600/601)  \n",
       "953        description anonymised pitch axis 1/2 (original codes 600/601)  "
      ]
     },
     "execution_count": 5,
=======
       "970        description anonymised pitch axis 1/2 (original codes 600/601)  \n",
       "969        description anonymised pitch axis 1/2 (original codes 600/601)  \n",
       "968        description anonymised pitch axis 1/2 (original codes 600/601)  "
      ]
     },
     "execution_count": 29,
>>>>>>> add_batch_labelling
     "metadata": {},
     "output_type": "execute_result"
    }
   ],
   "source": [
    "# group the data\n",
    "grouped_events, grouped_stop_codes = wtphm.batch.get_grouped_event_data(\n",
    "    event_data=events, code_groups=pitch_code_groups,\n",
    "    fault_codes=stop_codes)\n",
    "\n",
    "grouped_events[grouped_events.code.isin(\n",
    "    [i for s in pitch_code_groups for i in s])].head()"
   ]
  },
  {
   "cell_type": "markdown",
   "metadata": {},
   "source": [
<<<<<<< HEAD
    "# Create the batches\n",
=======
    "# Identifying events associated with a stoppage\n",
>>>>>>> add_batch_labelling
    "\n",
    "Now, we get the batches. These represent groups of events all linked to the same down-time event, as described in [1]. More information can be found in the documentation for the `batch.get_batch_data` function."
   ]
  },
  {
   "cell_type": "code",
<<<<<<< HEAD
   "execution_count": 6,
=======
   "execution_count": 30,
>>>>>>> add_batch_labelling
   "metadata": {},
   "outputs": [
    {
     "data": {
      "text/html": [
       "<div>\n",
       "<style scoped>\n",
       "    .dataframe tbody tr th:only-of-type {\n",
       "        vertical-align: middle;\n",
       "    }\n",
       "\n",
       "    .dataframe tbody tr th {\n",
       "        vertical-align: top;\n",
       "    }\n",
       "\n",
       "    .dataframe thead th {\n",
       "        text-align: right;\n",
       "    }\n",
       "</style>\n",
       "<table border=\"1\" class=\"dataframe\">\n",
       "  <thead>\n",
       "    <tr style=\"text-align: right;\">\n",
       "      <th></th>\n",
       "      <th>turbine_num</th>\n",
       "      <th>fault_start_codes</th>\n",
       "      <th>all_start_codes</th>\n",
       "      <th>start_time</th>\n",
       "      <th>fault_end_time</th>\n",
       "      <th>down_end_time</th>\n",
       "      <th>fault_dur</th>\n",
       "      <th>down_dur</th>\n",
       "      <th>fault_event_ids</th>\n",
       "      <th>all_event_ids</th>\n",
       "    </tr>\n",
       "  </thead>\n",
       "  <tbody>\n",
       "    <tr>\n",
       "      <th>0</th>\n",
       "      <td>2</td>\n",
       "      <td>(144, 500)</td>\n",
       "      <td>(144, 500)</td>\n",
       "      <td>2015-11-01 21:04:26</td>\n",
       "      <td>2015-11-01 21:17:26</td>\n",
       "      <td>2015-11-01 21:21:32</td>\n",
       "      <td>00:13:00</td>\n",
       "      <td>00:17:06</td>\n",
<<<<<<< HEAD
       "      <td>Int64Index([ 947,  946,  948,  950,  949,  952,  957,  959,  958,  961,  956,\n",
       "             955, ...</td>\n",
=======
       "      <td>Int64Index([ 947,  946,  948,  950,  949,  951,  957,  961,  956,  953,  960,\n",
       "             954, ...</td>\n",
>>>>>>> add_batch_labelling
       "      <td>Int64Index([ 947,  946,  948,  949,  950,  951,  952,  963,  970,  969,  968,\n",
       "             967, ...</td>\n",
       "    </tr>\n",
       "    <tr>\n",
       "      <th>1</th>\n",
       "      <td>2</td>\n",
       "      <td>(68, 113, 144, 500)</td>\n",
       "      <td>(68, 113, 144, 500)</td>\n",
       "      <td>2015-11-05 14:24:09</td>\n",
       "      <td>2015-11-05 14:25:28</td>\n",
       "      <td>2015-11-05 14:46:18</td>\n",
       "      <td>00:01:19</td>\n",
       "      <td>00:22:09</td>\n",
       "      <td>Int64Index([2564, 2563, 2562, 2561, 2565, 2566, 2567, 2574, 2569, 2570, 2571,\n",
       "            2572, ...</td>\n",
       "      <td>Int64Index([2564, 2563, 2562, 2561, 2565, 2566, 2567, 2568, 2581, 2580, 2579,\n",
       "            2578, ...</td>\n",
       "    </tr>\n",
       "    <tr>\n",
       "      <th>2</th>\n",
       "      <td>2</td>\n",
       "      <td>(53,)</td>\n",
       "      <td>(53,)</td>\n",
       "      <td>2015-11-06 20:32:16</td>\n",
       "      <td>2015-11-06 20:32:16</td>\n",
       "      <td>2015-11-06 20:32:21</td>\n",
       "      <td>00:00:00</td>\n",
       "      <td>00:00:05</td>\n",
       "      <td>Int64Index([2995], dtype='int64')</td>\n",
       "      <td>Int64Index([2995, 2996, 2997], dtype='int64')</td>\n",
       "    </tr>\n",
       "    <tr>\n",
       "      <th>3</th>\n",
       "      <td>2</td>\n",
       "      <td>(68, 113, 144, 500)</td>\n",
       "      <td>(68, 113, 144, 500)</td>\n",
       "      <td>2015-11-07 10:01:49</td>\n",
       "      <td>2015-11-07 10:03:03</td>\n",
       "      <td>2015-11-07 10:07:08</td>\n",
       "      <td>00:01:14</td>\n",
       "      <td>00:05:19</td>\n",
<<<<<<< HEAD
       "      <td>Int64Index([3330, 3331, 3329, 3328, 3332, 3333, 3334, 3344, 3343, 3341, 3340,\n",
=======
       "      <td>Int64Index([3330, 3331, 3329, 3328, 3332, 3333, 3334, 3344, 3343, 3342, 3341,\n",
>>>>>>> add_batch_labelling
       "            3345, ...</td>\n",
       "      <td>Int64Index([3328, 3329, 3330, 3331, 3332, 3333, 3334, 3335, 3336, 3337, 3338,\n",
       "            3339, ...</td>\n",
       "    </tr>\n",
       "    <tr>\n",
       "      <th>4</th>\n",
       "      <td>2</td>\n",
       "      <td>(144, 500)</td>\n",
       "      <td>(144, 500)</td>\n",
       "      <td>2015-11-13 23:37:21</td>\n",
       "      <td>2015-11-13 23:39:08</td>\n",
       "      <td>2015-11-13 23:59:31</td>\n",
       "      <td>00:01:47</td>\n",
       "      <td>00:22:10</td>\n",
       "      <td>Int64Index([5237, 5238, 5239, 5240, 5241, 5242, 5244, 5245, 5252, 5247, 5248,\n",
       "            5249, ...</td>\n",
       "      <td>Int64Index([5237, 5238, 5240, 5239, 5241, 5242, 5243, 5244, 5245, 5246, 5258,\n",
       "            5257, ...</td>\n",
       "    </tr>\n",
       "  </tbody>\n",
       "</table>\n",
       "</div>"
      ],
      "text/plain": [
       "   turbine_num    fault_start_codes      all_start_codes          start_time  \\\n",
       "0            2           (144, 500)           (144, 500) 2015-11-01 21:04:26   \n",
       "1            2  (68, 113, 144, 500)  (68, 113, 144, 500) 2015-11-05 14:24:09   \n",
       "2            2                (53,)                (53,) 2015-11-06 20:32:16   \n",
       "3            2  (68, 113, 144, 500)  (68, 113, 144, 500) 2015-11-07 10:01:49   \n",
       "4            2           (144, 500)           (144, 500) 2015-11-13 23:37:21   \n",
       "\n",
       "       fault_end_time       down_end_time fault_dur down_dur  \\\n",
       "0 2015-11-01 21:17:26 2015-11-01 21:21:32  00:13:00 00:17:06   \n",
       "1 2015-11-05 14:25:28 2015-11-05 14:46:18  00:01:19 00:22:09   \n",
       "2 2015-11-06 20:32:16 2015-11-06 20:32:21  00:00:00 00:00:05   \n",
       "3 2015-11-07 10:03:03 2015-11-07 10:07:08  00:01:14 00:05:19   \n",
       "4 2015-11-13 23:39:08 2015-11-13 23:59:31  00:01:47 00:22:10   \n",
       "\n",
       "                                                                                       fault_event_ids  \\\n",
<<<<<<< HEAD
       "0  Int64Index([ 947,  946,  948,  950,  949,  952,  957,  959,  958,  961,  956,\n",
       "             955, ...   \n",
       "1  Int64Index([2564, 2563, 2562, 2561, 2565, 2566, 2567, 2574, 2569, 2570, 2571,\n",
       "            2572, ...   \n",
       "2                                                                    Int64Index([2995], dtype='int64')   \n",
       "3  Int64Index([3330, 3331, 3329, 3328, 3332, 3333, 3334, 3344, 3343, 3341, 3340,\n",
=======
       "0  Int64Index([ 947,  946,  948,  950,  949,  951,  957,  961,  956,  953,  960,\n",
       "             954, ...   \n",
       "1  Int64Index([2564, 2563, 2562, 2561, 2565, 2566, 2567, 2574, 2569, 2570, 2571,\n",
       "            2572, ...   \n",
       "2                                                                    Int64Index([2995], dtype='int64')   \n",
       "3  Int64Index([3330, 3331, 3329, 3328, 3332, 3333, 3334, 3344, 3343, 3342, 3341,\n",
>>>>>>> add_batch_labelling
       "            3345, ...   \n",
       "4  Int64Index([5237, 5238, 5239, 5240, 5241, 5242, 5244, 5245, 5252, 5247, 5248,\n",
       "            5249, ...   \n",
       "\n",
       "                                                                                         all_event_ids  \n",
       "0  Int64Index([ 947,  946,  948,  949,  950,  951,  952,  963,  970,  969,  968,\n",
       "             967, ...  \n",
       "1  Int64Index([2564, 2563, 2562, 2561, 2565, 2566, 2567, 2568, 2581, 2580, 2579,\n",
       "            2578, ...  \n",
       "2                                                        Int64Index([2995, 2996, 2997], dtype='int64')  \n",
       "3  Int64Index([3328, 3329, 3330, 3331, 3332, 3333, 3334, 3335, 3336, 3337, 3338,\n",
       "            3339, ...  \n",
       "4  Int64Index([5237, 5238, 5240, 5239, 5241, 5242, 5243, 5244, 5245, 5246, 5258,\n",
       "            5257, ...  "
      ]
     },
<<<<<<< HEAD
     "execution_count": 6,
=======
     "execution_count": 30,
>>>>>>> add_batch_labelling
     "metadata": {},
     "output_type": "execute_result"
    }
   ],
   "source": [
    "# create the batches\n",
    "batches = wtphm.batch.get_batch_data(\n",
    "    event_data=grouped_events, fault_codes=grouped_stop_codes, ok_code=207,\n",
    "    t_sep_lim='1 hours')\n",
    "\n",
    "batches.head()"
   ]
  },
  {
<<<<<<< HEAD
   "cell_type": "markdown",
   "metadata": {},
   "source": [
    "# Assigning Stop Cats to the batches\n",
    "An important step is to label each batch according to the reason for the underlying stoppage. This is not covered in this notebook - see sectin 4.1.2 of [1] for details. It is planned to integrate an automatic labelling process, this is in active development as of March 2020.\n",
    "\n",
    "For the moment, we import a previously-developed map of `fault_start_code`s to batch fault categories. We additionally use the counters in the SCADA data to label the batches."
   ]
  },
  {
   "cell_type": "code",
   "execution_count": 7,
   "metadata": {},
   "outputs": [],
   "source": [
    "batch_fault_cats = pd.read_csv('examples/batch_fault_cats.csv')\n",
    "batch_fault_cats.fault_start_codes = batch_fault_cats.fault_start_codes.apply(\n",
    "    lambda x: eval(x))\n",
    "for b in batch_fault_cats.itertuples():\n",
    "    batches.loc[\n",
    "        batches.fault_start_codes == b.fault_start_codes, 'batch_cat'\n",
    "    ] =  b.fault_cat"
   ]
  },
  {
   "cell_type": "markdown",
   "metadata": {},
   "source": [
    "Most SCADA packages will have specific counters showing the amount of time the data was in any specific period of operation.\n",
    "Here we use these counters to label the batches.\n",
    "\n",
    "Each batch holds events data, with a start time of the first event, and an end time.\n",
    "We get the SCADA data which corresponds to these events, and check if the repair counter was active during the batch.\n",
    "If so, the batch is given an additional label as repair.\n",
    "\n",
    "In this way, we can see when repairs were carried out on the batch."
   ]
  },
  {
   "cell_type": "code",
   "execution_count": 8,
   "metadata": {},
   "outputs": [],
   "source": [
    "scada = pd.read_csv('examples/scada_data.csv',\n",
    "                    parse_dates=['time'])"
   ]
  },
  {
   "cell_type": "code",
   "execution_count": 9,
   "metadata": {},
   "outputs": [],
   "source": [
    "# add in a repair column\n",
    "batches['repair'] = False\n",
    "# find batches where repairs were performed\n",
    "repair_batch_ids = []\n",
    "for b in batches.itertuples():\n",
    "    start = b.start_time\n",
    "    end = (b.down_end_time + pd.Timedelta('5 minutes')).round('10T')\n",
    "    batch_scada = scada[\n",
    "        (scada.turbine_num == b.turbine_num) &\n",
    "        (scada.time >= start) & (scada.time <= end)]\n",
    "    if batch_scada.rt.sum() > 0:\n",
    "        repair_batch_ids.append(b.Index)\n",
    "batches.loc[repair_batch_ids, 'repair'] = True"
   ]
  },
  {
   "cell_type": "markdown",
   "metadata": {},
   "source": [
    "And now the same for the grid data"
   ]
  },
  {
   "cell_type": "code",
   "execution_count": 10,
   "metadata": {
    "ExecuteTime": {
     "end_time": "2018-06-15T12:59:47.492680Z",
     "start_time": "2018-06-15T12:59:39.028179Z"
    },
    "execution": {
     "iopub.execute_input": "2020-01-22T20:49:33.298206Z",
     "iopub.status.busy": "2020-01-22T20:49:33.298206Z",
     "iopub.status.idle": "2020-01-22T20:49:38.711096Z",
     "shell.execute_reply": "2020-01-22T20:49:38.710085Z",
     "shell.execute_reply.started": "2020-01-22T20:49:33.298206Z"
    },
    "init_cell": true
   },
   "outputs": [],
   "source": [
    "# find batches where lot counter was active:\n",
    "real_grid_batch_ids = []\n",
    "for b in batches.itertuples():\n",
    "    start = b.start_time\n",
    "    end = (b.down_end_time + pd.Timedelta('5 minutes')).round('10T')\n",
    "    batch_scada = scada[\n",
    "        (scada.turbine_num == b.turbine_num) & (scada.time >= start)\n",
    "        & (scada.time <= end)]\n",
    "    if batch_scada.lot.sum() > 0:\n",
    "        real_grid_batch_ids.append(b.Index)\n",
    "batches.loc[real_grid_batch_ids, 'batch_cat'] = 'grid'"
=======
   "cell_type": "code",
   "execution_count": 35,
   "metadata": {},
   "outputs": [
    {
     "data": {
      "text/plain": [
       "array(['pitch', 'test', 'grid', 'azimuth', 'sensor', 'maintenance',\n",
       "       'tower', 'fc', 'gearbox', 'battery', 'msf', 'brake', 'generator'],\n",
       "      dtype=object)"
      ]
     },
     "execution_count": 35,
     "metadata": {},
     "output_type": "execute_result"
    }
   ],
   "source": [
    "batches.batch_cat.unique()"
>>>>>>> add_batch_labelling
   ]
  },
  {
   "cell_type": "markdown",
   "metadata": {},
   "source": [
<<<<<<< HEAD
    "# Labelling the SCADA data for classification\n",
=======
    "# Labelling the SCADA data - times leading up to a fault\n",
>>>>>>> add_batch_labelling
    "\n",
    "To label SCADA data for classification purposes, we use the `classification.scada_labelling.label_stoppages` function."
   ]
  },
  {
   "cell_type": "markdown",
   "metadata": {},
   "source": [
    "## Labelling times leading up to a fault\n",
    "We can label the data leading up to stoppages as \"pre-fault\" data. This can be done in a \"pre-fault-window\", e.g. between 48 hours before the fault and 2 hours before the fault, or between one hour before the fault and as the fault happens.\n",
    "\n",
    "In the following, we identify downtimes where the turbine was down due to pitch system faults, for more than an hour, and where repairs were carried out.\n",
    "\n",
    "Then we label the SCADA the scada data for the 48h leading up to these faults as such. We also remove the actual entries corresponding to the faults from the data."
   ]
  },
  {
   "cell_type": "code",
<<<<<<< HEAD
   "execution_count": 11,
=======
   "execution_count": null,
>>>>>>> add_batch_labelling
   "metadata": {},
   "outputs": [],
   "source": [
    "# get batches related to pitch system faults that lasted more than 2 hours and\n",
    "# where the repair counter was active\n",
    "pitch_batches = batches[\n",
    "    (batches.down_dur >= '2 hours') & (batches.batch_cat == 'pitch') &\n",
    "    (batches.repair == True)\n",
    "]\n",
    "\n",
    "scada_pre = wtphm.classification.label_stoppages(\n",
    "        scada_data=scada, fault_batches=pitch_batches,\n",
    "        pre_stop_lims=['48 hours', '6 hours'])"
   ]
  },
  {
   "cell_type": "markdown",
   "metadata": {},
   "source": [
    "Note that, we can see the corresponding batch_id for the scada data returned with the new column, batch_id.\n",
    "A value of -1 means that there is no corresponding fault batch.\n",
    "\n",
    "See also that there is a new column, pre_stop."
   ]
  },
  {
   "cell_type": "code",
<<<<<<< HEAD
   "execution_count": 17,
   "metadata": {},
   "outputs": [
    {
     "data": {
      "text/html": [
       "<div>\n",
       "<style scoped>\n",
       "    .dataframe tbody tr th:only-of-type {\n",
       "        vertical-align: middle;\n",
       "    }\n",
       "\n",
       "    .dataframe tbody tr th {\n",
       "        vertical-align: top;\n",
       "    }\n",
       "\n",
       "    .dataframe thead th {\n",
       "        text-align: right;\n",
       "    }\n",
       "</style>\n",
       "<table border=\"1\" class=\"dataframe\">\n",
       "  <thead>\n",
       "    <tr style=\"text-align: right;\">\n",
       "      <th></th>\n",
       "      <th>time</th>\n",
       "      <th>turbine_num</th>\n",
       "      <th>wind_speed</th>\n",
       "      <th>kw</th>\n",
       "      <th>wind_speed_sd</th>\n",
       "      <th>wind_speed_max</th>\n",
       "      <th>torque_actual_value</th>\n",
       "      <th>blade_1_actual_angle</th>\n",
       "      <th>blade_2_actual_angle</th>\n",
       "      <th>blade_3_actual_angle</th>\n",
       "      <th>...</th>\n",
       "      <th>wot</th>\n",
       "      <th>est</th>\n",
       "      <th>mt</th>\n",
       "      <th>rt</th>\n",
       "      <th>eect</th>\n",
       "      <th>num_48h</th>\n",
       "      <th>dur_48h</th>\n",
       "      <th>stoppage</th>\n",
       "      <th>batch_id</th>\n",
       "      <th>pre_stop</th>\n",
       "    </tr>\n",
       "  </thead>\n",
       "  <tbody>\n",
       "    <tr>\n",
       "      <th>0</th>\n",
       "      <td>2015-11-01 00:00:00</td>\n",
       "      <td>2</td>\n",
       "      <td>0.148473</td>\n",
       "      <td>0.009655</td>\n",
       "      <td>0.064693</td>\n",
       "      <td>0.110283</td>\n",
       "      <td>0.025785</td>\n",
       "      <td>0.458179</td>\n",
       "      <td>0.458418</td>\n",
       "      <td>0.036115</td>\n",
       "      <td>...</td>\n",
       "      <td>0.0</td>\n",
       "      <td>0.0</td>\n",
       "      <td>0.0</td>\n",
       "      <td>0.0</td>\n",
       "      <td>0.0</td>\n",
       "      <td>2.0</td>\n",
       "      <td>13</td>\n",
       "      <td>0</td>\n",
       "      <td>-1</td>\n",
       "      <td>0</td>\n",
       "    </tr>\n",
       "    <tr>\n",
       "      <th>1</th>\n",
       "      <td>2015-11-01 00:10:00</td>\n",
       "      <td>2</td>\n",
       "      <td>0.125081</td>\n",
       "      <td>0.004962</td>\n",
       "      <td>0.066886</td>\n",
       "      <td>0.084016</td>\n",
       "      <td>0.020163</td>\n",
       "      <td>0.466428</td>\n",
       "      <td>0.465187</td>\n",
       "      <td>0.050519</td>\n",
       "      <td>...</td>\n",
       "      <td>0.0</td>\n",
       "      <td>0.0</td>\n",
       "      <td>0.0</td>\n",
       "      <td>0.0</td>\n",
       "      <td>0.0</td>\n",
       "      <td>2.0</td>\n",
       "      <td>13</td>\n",
       "      <td>0</td>\n",
       "      <td>-1</td>\n",
       "      <td>0</td>\n",
       "    </tr>\n",
       "    <tr>\n",
       "      <th>2</th>\n",
       "      <td>2015-11-01 00:20:00</td>\n",
       "      <td>2</td>\n",
       "      <td>0.121183</td>\n",
       "      <td>0.004913</td>\n",
       "      <td>0.060307</td>\n",
       "      <td>0.086624</td>\n",
       "      <td>0.020841</td>\n",
       "      <td>0.473221</td>\n",
       "      <td>0.470761</td>\n",
       "      <td>0.062381</td>\n",
       "      <td>...</td>\n",
       "      <td>0.0</td>\n",
       "      <td>0.0</td>\n",
       "      <td>0.0</td>\n",
       "      <td>0.0</td>\n",
       "      <td>0.0</td>\n",
       "      <td>2.0</td>\n",
       "      <td>13</td>\n",
       "      <td>0</td>\n",
       "      <td>-1</td>\n",
       "      <td>0</td>\n",
       "    </tr>\n",
       "    <tr>\n",
       "      <th>3</th>\n",
       "      <td>2015-11-01 00:30:00</td>\n",
       "      <td>2</td>\n",
       "      <td>0.137752</td>\n",
       "      <td>0.004454</td>\n",
       "      <td>0.067982</td>\n",
       "      <td>0.104322</td>\n",
       "      <td>0.020841</td>\n",
       "      <td>0.628920</td>\n",
       "      <td>0.598517</td>\n",
       "      <td>0.334251</td>\n",
       "      <td>...</td>\n",
       "      <td>0.0</td>\n",
       "      <td>0.0</td>\n",
       "      <td>0.0</td>\n",
       "      <td>0.0</td>\n",
       "      <td>0.0</td>\n",
       "      <td>2.0</td>\n",
       "      <td>13</td>\n",
       "      <td>0</td>\n",
       "      <td>-1</td>\n",
       "      <td>0</td>\n",
       "    </tr>\n",
       "    <tr>\n",
       "      <th>4</th>\n",
       "      <td>2015-11-01 00:40:00</td>\n",
       "      <td>2</td>\n",
       "      <td>0.171540</td>\n",
       "      <td>0.040889</td>\n",
       "      <td>0.066886</td>\n",
       "      <td>0.113077</td>\n",
       "      <td>0.075126</td>\n",
       "      <td>0.460969</td>\n",
       "      <td>0.460708</td>\n",
       "      <td>0.040987</td>\n",
       "      <td>...</td>\n",
       "      <td>0.0</td>\n",
       "      <td>0.0</td>\n",
       "      <td>0.0</td>\n",
       "      <td>0.0</td>\n",
       "      <td>0.0</td>\n",
       "      <td>2.0</td>\n",
       "      <td>13</td>\n",
       "      <td>0</td>\n",
       "      <td>-1</td>\n",
       "      <td>0</td>\n",
       "    </tr>\n",
       "  </tbody>\n",
       "</table>\n",
       "<p>5 rows × 27 columns</p>\n",
       "</div>"
      ],
      "text/plain": [
       "                 time  turbine_num  wind_speed        kw  wind_speed_sd  \\\n",
       "0 2015-11-01 00:00:00            2    0.148473  0.009655       0.064693   \n",
       "1 2015-11-01 00:10:00            2    0.125081  0.004962       0.066886   \n",
       "2 2015-11-01 00:20:00            2    0.121183  0.004913       0.060307   \n",
       "3 2015-11-01 00:30:00            2    0.137752  0.004454       0.067982   \n",
       "4 2015-11-01 00:40:00            2    0.171540  0.040889       0.066886   \n",
       "\n",
       "   wind_speed_max  torque_actual_value  blade_1_actual_angle  \\\n",
       "0        0.110283             0.025785              0.458179   \n",
       "1        0.084016             0.020163              0.466428   \n",
       "2        0.086624             0.020841              0.473221   \n",
       "3        0.104322             0.020841              0.628920   \n",
       "4        0.113077             0.075126              0.460969   \n",
       "\n",
       "   blade_2_actual_angle  blade_3_actual_angle  ...  wot  est   mt   rt  eect  \\\n",
       "0              0.458418              0.036115  ...  0.0  0.0  0.0  0.0   0.0   \n",
       "1              0.465187              0.050519  ...  0.0  0.0  0.0  0.0   0.0   \n",
       "2              0.470761              0.062381  ...  0.0  0.0  0.0  0.0   0.0   \n",
       "3              0.598517              0.334251  ...  0.0  0.0  0.0  0.0   0.0   \n",
       "4              0.460708              0.040987  ...  0.0  0.0  0.0  0.0   0.0   \n",
       "\n",
       "   num_48h  dur_48h  stoppage  batch_id  pre_stop  \n",
       "0      2.0       13         0        -1         0  \n",
       "1      2.0       13         0        -1         0  \n",
       "2      2.0       13         0        -1         0  \n",
       "3      2.0       13         0        -1         0  \n",
       "4      2.0       13         0        -1         0  \n",
       "\n",
       "[5 rows x 27 columns]"
      ]
     },
     "execution_count": 17,
     "metadata": {},
     "output_type": "execute_result"
    }
   ],
=======
   "execution_count": null,
   "metadata": {},
   "outputs": [],
>>>>>>> add_batch_labelling
   "source": [
    "scada_pre.head()"
   ]
  },
  {
   "cell_type": "markdown",
   "metadata": {},
   "source": [
    "# References\n",
    "[1] *Leahy, Kevin, et al. “A robust prescriptive framework and performance metric for diagnosing and predicting wind turbine faults based on SCADA and alarms data with case study.” Energies 11.7 (2018): 1738.*"
   ]
  }
 ],
 "metadata": {
  "kernelspec": {
   "display_name": "Python 3",
   "language": "python",
   "name": "python3"
  },
  "language_info": {
   "codemirror_mode": {
    "name": "ipython",
    "version": 3
   },
   "file_extension": ".py",
   "mimetype": "text/x-python",
   "name": "python",
   "nbconvert_exporter": "python",
   "pygments_lexer": "ipython3",
   "version": "3.7.4"
<<<<<<< HEAD
  }
=======
  },
  "toc-autonumbering": true
>>>>>>> add_batch_labelling
 },
 "nbformat": 4,
 "nbformat_minor": 4
}
