{
 "cells": [
  {
   "cell_type": "markdown",
   "metadata": {},
   "source": [
    "# Overview\n",
    "This notebook contains examples for the `wtphm` readme file"
   ]
  },
  {
   "cell_type": "code",
   "execution_count": 18,
   "metadata": {
    "ExecuteTime": {
     "end_time": "2018-09-14T14:32:13.589464Z",
     "start_time": "2018-09-14T14:32:13.571528Z"
    },
    "init_cell": true,
    "locked": false,
    "run_control": {
     "marked": false
    }
   },
   "outputs": [
    {
     "name": "stdout",
     "output_type": "stream",
     "text": [
      "C:\\Users\\leahy\n"
     ]
    }
   ],
   "source": [
    "cd"
   ]
  },
  {
   "cell_type": "code",
   "execution_count": 19,
   "metadata": {
    "ExecuteTime": {
     "end_time": "2018-09-14T14:32:13.604424Z",
     "start_time": "2018-09-14T14:32:13.592456Z"
    },
    "init_cell": true,
    "locked": false,
    "run_control": {
     "marked": false
    },
    "scrolled": true
   },
   "outputs": [
    {
     "name": "stdout",
     "output_type": "stream",
     "text": [
      "C:\\Users\\leahy\\google drive\\ucc\\phd\\code\\modules\\wtphm\n"
     ]
    }
   ],
   "source": [
    "cd google drive/ucc/phd/code/modules/wtphm"
   ]
  },
  {
   "cell_type": "markdown",
   "metadata": {},
   "source": [
    "# `get_grouped_event_data`\n",
    "\n",
    "The `get_grouped_event_data` function groups together similar faults or events, and turns them into the \"same\" event.\n",
    "\n",
    "An example would be faults across different pitch motors on different turbine blades being grouped as the same type of fault. This is useful, as there typically _very_ fault samples on wind turbines, so treating these as three separate types of faults would give even fewer samples for each class."
   ]
  },
  {
   "cell_type": "code",
   "execution_count": 24,
   "metadata": {},
   "outputs": [
    {
     "data": {
      "text/html": [
       "<div>\n",
       "<style scoped>\n",
       "    .dataframe tbody tr th:only-of-type {\n",
       "        vertical-align: middle;\n",
       "    }\n",
       "\n",
       "    .dataframe tbody tr th {\n",
       "        vertical-align: top;\n",
       "    }\n",
       "\n",
       "    .dataframe thead th {\n",
       "        text-align: right;\n",
       "    }\n",
       "</style>\n",
       "<table border=\"1\" class=\"dataframe\">\n",
       "  <thead>\n",
       "    <tr style=\"text-align: right;\">\n",
       "      <th></th>\n",
       "      <th>turbine_num</th>\n",
       "      <th>code</th>\n",
       "      <th>time_on</th>\n",
       "      <th>time_off</th>\n",
       "      <th>duration</th>\n",
       "      <th>stop_cat</th>\n",
       "      <th>description</th>\n",
       "    </tr>\n",
       "  </thead>\n",
       "  <tbody>\n",
       "    <tr>\n",
       "      <th>0</th>\n",
       "      <td>20</td>\n",
       "      <td>9</td>\n",
       "      <td>2015-06-01 02:51:01</td>\n",
       "      <td>2015-06-01 02:54:13</td>\n",
       "      <td>00:03:12</td>\n",
       "      <td>ok</td>\n",
       "      <td>description anonymised</td>\n",
       "    </tr>\n",
       "    <tr>\n",
       "      <th>1</th>\n",
       "      <td>18</td>\n",
       "      <td>9</td>\n",
       "      <td>2015-06-01 02:51:38</td>\n",
       "      <td>2015-06-01 02:53:29</td>\n",
       "      <td>00:01:51</td>\n",
       "      <td>ok</td>\n",
       "      <td>description anonymised</td>\n",
       "    </tr>\n",
       "    <tr>\n",
       "      <th>2</th>\n",
       "      <td>18</td>\n",
       "      <td>84</td>\n",
       "      <td>2015-06-01 02:53:29</td>\n",
       "      <td>2015-06-01 03:00:57</td>\n",
       "      <td>00:07:28</td>\n",
       "      <td>ok</td>\n",
       "      <td>description anonymised</td>\n",
       "    </tr>\n",
       "    <tr>\n",
       "      <th>3</th>\n",
       "      <td>20</td>\n",
       "      <td>84</td>\n",
       "      <td>2015-06-01 02:54:13</td>\n",
       "      <td>2015-06-01 03:09:24</td>\n",
       "      <td>00:15:11</td>\n",
       "      <td>ok</td>\n",
       "      <td>description anonymised</td>\n",
       "    </tr>\n",
       "    <tr>\n",
       "      <th>4</th>\n",
       "      <td>18</td>\n",
       "      <td>9</td>\n",
       "      <td>2015-06-01 03:00:57</td>\n",
       "      <td>2015-06-01 03:03:46</td>\n",
       "      <td>00:02:49</td>\n",
       "      <td>ok</td>\n",
       "      <td>description anonymised</td>\n",
       "    </tr>\n",
       "  </tbody>\n",
       "</table>\n",
       "</div>"
      ],
      "text/plain": [
       "   turbine_num  code             time_on            time_off duration  \\\n",
       "0           20     9 2015-06-01 02:51:01 2015-06-01 02:54:13 00:03:12   \n",
       "1           18     9 2015-06-01 02:51:38 2015-06-01 02:53:29 00:01:51   \n",
       "2           18    84 2015-06-01 02:53:29 2015-06-01 03:00:57 00:07:28   \n",
       "3           20    84 2015-06-01 02:54:13 2015-06-01 03:09:24 00:15:11   \n",
       "4           18     9 2015-06-01 03:00:57 2015-06-01 03:03:46 00:02:49   \n",
       "\n",
       "  stop_cat             description  \n",
       "0       ok  description anonymised  \n",
       "1       ok  description anonymised  \n",
       "2       ok  description anonymised  \n",
       "3       ok  description anonymised  \n",
       "4       ok  description anonymised  "
      ]
     },
     "execution_count": 24,
     "metadata": {},
     "output_type": "execute_result"
    }
   ],
   "source": [
    "import wtphm\n",
    "import pandas as pd\n",
    "\n",
    "# to fully display the dataframes:\n",
    "pd.set_option('display.max_colwidth', 100)\n",
    "\n",
    "events = pd.read_csv('examples/events_data.csv',\n",
    "                     parse_dates=['time_on', 'time_off'])\n",
    "events.duration = pd.to_timedelta(events.duration)\n",
    "\n",
    "events.head()"
   ]
  },
  {
   "cell_type": "markdown",
   "metadata": {},
   "source": [
    "Note the `events` data used in the examples here is anonymised - all codes have been mapped to a random set of numbers, and descriptions have been removed"
   ]
  },
  {
   "cell_type": "code",
   "execution_count": 25,
   "metadata": {},
   "outputs": [
    {
     "data": {
      "text/html": [
       "<div>\n",
       "<style scoped>\n",
       "    .dataframe tbody tr th:only-of-type {\n",
       "        vertical-align: middle;\n",
       "    }\n",
       "\n",
       "    .dataframe tbody tr th {\n",
       "        vertical-align: top;\n",
       "    }\n",
       "\n",
       "    .dataframe thead th {\n",
       "        text-align: right;\n",
       "    }\n",
       "</style>\n",
       "<table border=\"1\" class=\"dataframe\">\n",
       "  <thead>\n",
       "    <tr style=\"text-align: right;\">\n",
       "      <th></th>\n",
       "      <th>turbine_num</th>\n",
       "      <th>code</th>\n",
       "      <th>time_on</th>\n",
       "      <th>time_off</th>\n",
       "      <th>duration</th>\n",
       "      <th>stop_cat</th>\n",
       "      <th>description</th>\n",
       "    </tr>\n",
       "  </thead>\n",
       "  <tbody>\n",
       "    <tr>\n",
       "      <th>8</th>\n",
       "      <td>20</td>\n",
       "      <td>502</td>\n",
       "      <td>2015-06-01 03:53:30</td>\n",
       "      <td>2015-06-01 04:09:36</td>\n",
       "      <td>00:16:06</td>\n",
       "      <td>fault</td>\n",
       "      <td>description anonymised pitch axis 3</td>\n",
       "    </tr>\n",
       "    <tr>\n",
       "      <th>10</th>\n",
       "      <td>20</td>\n",
       "      <td>601</td>\n",
       "      <td>2015-06-01 03:53:31</td>\n",
       "      <td>2015-06-01 03:54:44</td>\n",
       "      <td>00:01:13</td>\n",
       "      <td>fault</td>\n",
       "      <td>description anonymised pitch axis 2</td>\n",
       "    </tr>\n",
       "    <tr>\n",
       "      <th>13</th>\n",
       "      <td>20</td>\n",
       "      <td>300</td>\n",
       "      <td>2015-06-01 03:53:40</td>\n",
       "      <td>2015-06-01 04:09:36</td>\n",
       "      <td>00:15:56</td>\n",
       "      <td>fault</td>\n",
       "      <td>description anonymised pitch axis 1</td>\n",
       "    </tr>\n",
       "    <tr>\n",
       "      <th>15</th>\n",
       "      <td>20</td>\n",
       "      <td>302</td>\n",
       "      <td>2015-06-01 03:53:40</td>\n",
       "      <td>2015-06-01 04:09:36</td>\n",
       "      <td>00:15:56</td>\n",
       "      <td>fault</td>\n",
       "      <td>description anonymised pitch axis 3</td>\n",
       "    </tr>\n",
       "    <tr>\n",
       "      <th>335</th>\n",
       "      <td>8</td>\n",
       "      <td>502</td>\n",
       "      <td>2015-06-01 20:53:42</td>\n",
       "      <td>2015-06-01 21:03:10</td>\n",
       "      <td>00:09:28</td>\n",
       "      <td>fault</td>\n",
       "      <td>description anonymised pitch axis 3</td>\n",
       "    </tr>\n",
       "  </tbody>\n",
       "</table>\n",
       "</div>"
      ],
      "text/plain": [
       "     turbine_num  code             time_on            time_off duration  \\\n",
       "8             20   502 2015-06-01 03:53:30 2015-06-01 04:09:36 00:16:06   \n",
       "10            20   601 2015-06-01 03:53:31 2015-06-01 03:54:44 00:01:13   \n",
       "13            20   300 2015-06-01 03:53:40 2015-06-01 04:09:36 00:15:56   \n",
       "15            20   302 2015-06-01 03:53:40 2015-06-01 04:09:36 00:15:56   \n",
       "335            8   502 2015-06-01 20:53:42 2015-06-01 21:03:10 00:09:28   \n",
       "\n",
       "    stop_cat                          description  \n",
       "8      fault  description anonymised pitch axis 3  \n",
       "10     fault  description anonymised pitch axis 2  \n",
       "13     fault  description anonymised pitch axis 1  \n",
       "15     fault  description anonymised pitch axis 3  \n",
       "335    fault  description anonymised pitch axis 3  "
      ]
     },
     "execution_count": 25,
     "metadata": {},
     "output_type": "execute_result"
    }
   ],
   "source": [
    "# codes that cause the turbine to come to a stop\n",
    "stop_codes = events[events.stop_cat.isin(\n",
    "    ['fault', 'maintenance', 'test', 'sensor', 'grid'])].code.unique()\n",
    "\n",
    "# these are groups of codes, where each group represents a set of pitch-related\n",
    "# events, where each memeber of the set represents the same event but along a\n",
    "# different blade axis\n",
    "pitch_code_groups = [[300, 301, 302], [400, 401], [501, 502, 503], [601, 602],\n",
    "                     [701, 702, 703]]\n",
    "\n",
    "events[events.code.isin([i for s in pitch_code_groups for i in s])].head()"
   ]
  },
  {
   "cell_type": "markdown",
   "metadata": {},
   "source": [
    "As can be seen, the events data has a number of different codes for data along different pitch axes.\n",
    "\n",
    "Below, we group these together as the same code:"
   ]
  },
  {
   "cell_type": "code",
   "execution_count": 26,
   "metadata": {},
   "outputs": [
    {
     "data": {
      "text/html": [
       "<div>\n",
       "<style scoped>\n",
       "    .dataframe tbody tr th:only-of-type {\n",
       "        vertical-align: middle;\n",
       "    }\n",
       "\n",
       "    .dataframe tbody tr th {\n",
       "        vertical-align: top;\n",
       "    }\n",
       "\n",
       "    .dataframe thead th {\n",
       "        text-align: right;\n",
       "    }\n",
       "</style>\n",
       "<table border=\"1\" class=\"dataframe\">\n",
       "  <thead>\n",
       "    <tr style=\"text-align: right;\">\n",
       "      <th></th>\n",
       "      <th>turbine_num</th>\n",
       "      <th>code</th>\n",
       "      <th>time_on</th>\n",
       "      <th>time_off</th>\n",
       "      <th>duration</th>\n",
       "      <th>stop_cat</th>\n",
       "      <th>description</th>\n",
       "    </tr>\n",
       "  </thead>\n",
       "  <tbody>\n",
       "    <tr>\n",
       "      <th>8</th>\n",
       "      <td>20</td>\n",
       "      <td>501</td>\n",
       "      <td>2015-06-01 03:53:30</td>\n",
       "      <td>2015-06-01 04:09:36</td>\n",
       "      <td>00:16:06</td>\n",
       "      <td>fault</td>\n",
       "      <td>description anonymised pitch axis 2/3 (original codes 501/502/503)</td>\n",
       "    </tr>\n",
       "    <tr>\n",
       "      <th>10</th>\n",
       "      <td>20</td>\n",
       "      <td>601</td>\n",
       "      <td>2015-06-01 03:53:31</td>\n",
       "      <td>2015-06-01 03:54:44</td>\n",
       "      <td>00:01:13</td>\n",
       "      <td>fault</td>\n",
       "      <td>description anonymised pitch axis 2/3 (original codes 601/602)</td>\n",
       "    </tr>\n",
       "    <tr>\n",
       "      <th>13</th>\n",
       "      <td>20</td>\n",
       "      <td>300</td>\n",
       "      <td>2015-06-01 03:53:40</td>\n",
       "      <td>2015-06-01 04:09:36</td>\n",
       "      <td>00:15:56</td>\n",
       "      <td>fault</td>\n",
       "      <td>description anonymised pitch axis 1/2/3 (original codes 300/301/302)</td>\n",
       "    </tr>\n",
       "    <tr>\n",
       "      <th>15</th>\n",
       "      <td>20</td>\n",
       "      <td>300</td>\n",
       "      <td>2015-06-01 03:53:40</td>\n",
       "      <td>2015-06-01 04:09:36</td>\n",
       "      <td>00:15:56</td>\n",
       "      <td>fault</td>\n",
       "      <td>description anonymised pitch axis 1/2/3 (original codes 300/301/302)</td>\n",
       "    </tr>\n",
       "    <tr>\n",
       "      <th>335</th>\n",
       "      <td>8</td>\n",
       "      <td>501</td>\n",
       "      <td>2015-06-01 20:53:42</td>\n",
       "      <td>2015-06-01 21:03:10</td>\n",
       "      <td>00:09:28</td>\n",
       "      <td>fault</td>\n",
       "      <td>description anonymised pitch axis 2/3 (original codes 501/502/503)</td>\n",
       "    </tr>\n",
       "  </tbody>\n",
       "</table>\n",
       "</div>"
      ],
      "text/plain": [
       "     turbine_num  code             time_on            time_off duration  \\\n",
       "8             20   501 2015-06-01 03:53:30 2015-06-01 04:09:36 00:16:06   \n",
       "10            20   601 2015-06-01 03:53:31 2015-06-01 03:54:44 00:01:13   \n",
       "13            20   300 2015-06-01 03:53:40 2015-06-01 04:09:36 00:15:56   \n",
       "15            20   300 2015-06-01 03:53:40 2015-06-01 04:09:36 00:15:56   \n",
       "335            8   501 2015-06-01 20:53:42 2015-06-01 21:03:10 00:09:28   \n",
       "\n",
       "    stop_cat  \\\n",
       "8      fault   \n",
       "10     fault   \n",
       "13     fault   \n",
       "15     fault   \n",
       "335    fault   \n",
       "\n",
       "                                                              description  \n",
       "8      description anonymised pitch axis 2/3 (original codes 501/502/503)  \n",
       "10         description anonymised pitch axis 2/3 (original codes 601/602)  \n",
       "13   description anonymised pitch axis 1/2/3 (original codes 300/301/302)  \n",
       "15   description anonymised pitch axis 1/2/3 (original codes 300/301/302)  \n",
       "335    description anonymised pitch axis 2/3 (original codes 501/502/503)  "
      ]
     },
     "execution_count": 26,
     "metadata": {},
     "output_type": "execute_result"
    }
   ],
   "source": [
    "# group the data\n",
    "grouped_events, grouped_stop_codes = wtphm.batch.get_grouped_event_data(\n",
    "    event_data=events, code_groups=pitch_code_groups,\n",
    "    fault_codes=stop_codes)\n",
    "\n",
    "grouped_events[grouped_events.code.isin(\n",
    "    [i for s in pitch_code_groups for i in s])].head()"
   ]
  },
  {
   "cell_type": "markdown",
   "metadata": {},
   "source": [
    "# Create the batches\n",
    "\n",
    "Now, we get the batches. These represent groups of events all linked to the same down-time event, as described in [1]. More information can be found in the documentation for the `batch.get_batch_data` function."
   ]
  },
  {
   "cell_type": "code",
   "execution_count": 30,
   "metadata": {},
   "outputs": [
    {
     "data": {
      "text/html": [
       "<div>\n",
       "<style scoped>\n",
       "    .dataframe tbody tr th:only-of-type {\n",
       "        vertical-align: middle;\n",
       "    }\n",
       "\n",
       "    .dataframe tbody tr th {\n",
       "        vertical-align: top;\n",
       "    }\n",
       "\n",
       "    .dataframe thead th {\n",
       "        text-align: right;\n",
       "    }\n",
       "</style>\n",
       "<table border=\"1\" class=\"dataframe\">\n",
       "  <thead>\n",
       "    <tr style=\"text-align: right;\">\n",
       "      <th></th>\n",
       "      <th>turbine_num</th>\n",
       "      <th>fault_start_codes</th>\n",
       "      <th>all_start_codes</th>\n",
       "      <th>start_time</th>\n",
       "      <th>fault_end_time</th>\n",
       "      <th>down_end_time</th>\n",
       "      <th>fault_dur</th>\n",
       "      <th>down_dur</th>\n",
       "      <th>fault_event_ids</th>\n",
       "      <th>all_event_ids</th>\n",
       "    </tr>\n",
       "  </thead>\n",
       "  <tbody>\n",
       "    <tr>\n",
       "      <th>0</th>\n",
       "      <td>20</td>\n",
       "      <td>(144, 501)</td>\n",
       "      <td>(144, 501)</td>\n",
       "      <td>2015-06-01 03:53:30</td>\n",
       "      <td>2015-06-01 04:09:47</td>\n",
       "      <td>2015-06-01 04:13:53</td>\n",
       "      <td>0 days 00:16:17</td>\n",
       "      <td>0 days 00:20:23</td>\n",
       "      <td>Int64Index([8, 9, 10, 11, 12, 13, 14, 15, 17, 21, 20, 22, 23, 25, 26, 27], dtype='int64')</td>\n",
       "      <td>Int64Index([ 8,  9, 10, 11, 12, 13, 14, 15, 16, 17, 18, 19, 20, 21, 22, 23, 24,\n",
       "            25, ...</td>\n",
       "    </tr>\n",
       "    <tr>\n",
       "      <th>1</th>\n",
       "      <td>20</td>\n",
       "      <td>(73,)</td>\n",
       "      <td>(73, 141)</td>\n",
       "      <td>2015-06-01 17:13:59</td>\n",
       "      <td>2015-06-01 17:13:59</td>\n",
       "      <td>2015-06-01 17:14:51</td>\n",
       "      <td>0 days 00:00:00</td>\n",
       "      <td>0 days 00:00:52</td>\n",
       "      <td>Int64Index([318], dtype='int64')</td>\n",
       "      <td>Int64Index([317, 318, 319, 320, 321], dtype='int64')</td>\n",
       "    </tr>\n",
       "    <tr>\n",
       "      <th>2</th>\n",
       "      <td>20</td>\n",
       "      <td>(0,)</td>\n",
       "      <td>(0,)</td>\n",
       "      <td>2015-06-02 14:08:59</td>\n",
       "      <td>2015-06-02 14:20:21</td>\n",
       "      <td>2015-06-02 14:22:30</td>\n",
       "      <td>0 days 00:11:22</td>\n",
       "      <td>0 days 00:13:31</td>\n",
       "      <td>Int64Index([972, 973, 992], dtype='int64')</td>\n",
       "      <td>Int64Index([972, 973, 974, 975, 976, 992, 993, 1001, 1002, 1003], dtype='int64')</td>\n",
       "    </tr>\n",
       "    <tr>\n",
       "      <th>3</th>\n",
       "      <td>20</td>\n",
       "      <td>(68, 113, 144, 501)</td>\n",
       "      <td>(68, 113, 144, 501)</td>\n",
       "      <td>2015-06-04 16:22:24</td>\n",
       "      <td>2015-06-04 16:27:42</td>\n",
       "      <td>2015-06-04 16:44:33</td>\n",
       "      <td>0 days 00:05:18</td>\n",
       "      <td>0 days 00:22:09</td>\n",
       "      <td>Int64Index([1910, 1909, 1908, 1907, 1911, 1912, 1913, 1916, 1920, 1919, 1918,\n",
       "            1917, ...</td>\n",
       "      <td>Int64Index([1910, 1909, 1908, 1907, 1911, 1912, 1913, 1914, 1915, 1916, 1917,\n",
       "            1918, ...</td>\n",
       "    </tr>\n",
       "    <tr>\n",
       "      <th>4</th>\n",
       "      <td>20</td>\n",
       "      <td>(155,)</td>\n",
       "      <td>(155,)</td>\n",
       "      <td>2015-06-05 09:29:21</td>\n",
       "      <td>2015-06-06 16:37:37</td>\n",
       "      <td>2015-06-06 16:38:02</td>\n",
       "      <td>1 days 07:08:16</td>\n",
       "      <td>1 days 07:08:41</td>\n",
       "      <td>Int64Index([1985, 3090], dtype='int64')</td>\n",
       "      <td>Int64Index([1985, 1986, 1987, 1988, 1993, 1995, 2003, 2337, 2346, 2356, 2359,\n",
       "            2358, ...</td>\n",
       "    </tr>\n",
       "  </tbody>\n",
       "</table>\n",
       "</div>"
      ],
      "text/plain": [
       "   turbine_num    fault_start_codes      all_start_codes          start_time  \\\n",
       "0           20           (144, 501)           (144, 501) 2015-06-01 03:53:30   \n",
       "1           20                (73,)            (73, 141) 2015-06-01 17:13:59   \n",
       "2           20                 (0,)                 (0,) 2015-06-02 14:08:59   \n",
       "3           20  (68, 113, 144, 501)  (68, 113, 144, 501) 2015-06-04 16:22:24   \n",
       "4           20               (155,)               (155,) 2015-06-05 09:29:21   \n",
       "\n",
       "       fault_end_time       down_end_time       fault_dur        down_dur  \\\n",
       "0 2015-06-01 04:09:47 2015-06-01 04:13:53 0 days 00:16:17 0 days 00:20:23   \n",
       "1 2015-06-01 17:13:59 2015-06-01 17:14:51 0 days 00:00:00 0 days 00:00:52   \n",
       "2 2015-06-02 14:20:21 2015-06-02 14:22:30 0 days 00:11:22 0 days 00:13:31   \n",
       "3 2015-06-04 16:27:42 2015-06-04 16:44:33 0 days 00:05:18 0 days 00:22:09   \n",
       "4 2015-06-06 16:37:37 2015-06-06 16:38:02 1 days 07:08:16 1 days 07:08:41   \n",
       "\n",
       "                                                                                       fault_event_ids  \\\n",
       "0            Int64Index([8, 9, 10, 11, 12, 13, 14, 15, 17, 21, 20, 22, 23, 25, 26, 27], dtype='int64')   \n",
       "1                                                                     Int64Index([318], dtype='int64')   \n",
       "2                                                           Int64Index([972, 973, 992], dtype='int64')   \n",
       "3  Int64Index([1910, 1909, 1908, 1907, 1911, 1912, 1913, 1916, 1920, 1919, 1918,\n",
       "            1917, ...   \n",
       "4                                                              Int64Index([1985, 3090], dtype='int64')   \n",
       "\n",
       "                                                                                         all_event_ids  \n",
       "0  Int64Index([ 8,  9, 10, 11, 12, 13, 14, 15, 16, 17, 18, 19, 20, 21, 22, 23, 24,\n",
       "            25, ...  \n",
       "1                                                 Int64Index([317, 318, 319, 320, 321], dtype='int64')  \n",
       "2                     Int64Index([972, 973, 974, 975, 976, 992, 993, 1001, 1002, 1003], dtype='int64')  \n",
       "3  Int64Index([1910, 1909, 1908, 1907, 1911, 1912, 1913, 1914, 1915, 1916, 1917,\n",
       "            1918, ...  \n",
       "4  Int64Index([1985, 1986, 1987, 1988, 1993, 1995, 2003, 2337, 2346, 2356, 2359,\n",
       "            2358, ...  "
      ]
     },
     "execution_count": 30,
     "metadata": {},
     "output_type": "execute_result"
    }
   ],
   "source": [
    "# create the batches\n",
    "batches = wtphm.batch.get_batch_data(\n",
    "    event_data=grouped_events, fault_codes=grouped_stop_codes, ok_code=207,\n",
    "    t_sep_lim='1 hours')\n",
    "\n",
    "batches.head()"
   ]
  },
  {
   "cell_type": "markdown",
   "metadata": {},
   "source": [
    "# Labelling the SCADA data for classification\n",
    "\n",
    "The main use for this package is to label SCADA data for classification purposes. Here, we use the `classification.scada_labelling.label_stoppages` function.\n",
    "\n",
    "In order to do this, first the batches must be labelled. This is not covered in this "
   ]
  },
  {
   "cell_type": "code",
   "execution_count": 33,
   "metadata": {},
   "outputs": [
    {
     "data": {
      "text/plain": [
       "array(['ok', 'fault', 'test', 'maintenance', 'sensor', 'curtailed',\n",
       "       'grid'], dtype=object)"
      ]
     },
     "execution_count": 33,
     "metadata": {},
     "output_type": "execute_result"
    }
   ],
   "source": [
    "events.stop_cat.unique()"
   ]
  },
  {
   "cell_type": "code",
   "execution_count": 39,
   "metadata": {},
   "outputs": [
    {
     "data": {
      "text/plain": [
       "array(['ok'], dtype=object)"
      ]
     },
     "execution_count": 39,
     "metadata": {},
     "output_type": "execute_result"
    }
   ],
   "source": [
    "grouped_events.loc[grouped_events.code == 207, 'stop_cat'].unique()"
   ]
  },
  {
   "cell_type": "code",
   "execution_count": 94,
   "metadata": {},
   "outputs": [],
   "source": [
    "from collections import Counter\n",
    "\n",
    "def _get_batch_fault_start_cats(fault_start_codes, events_data):\n",
    "    \"\"\"\n",
    "    Gets the ``stop_cat`` for the fault start codes of a batch\n",
    "    \n",
    "    Args\n",
    "    ----\n",
    "    fault_start_codes\n",
    "    \"\"\"\n",
    "    fs_cats = tuple()\n",
    "    for fsc in fault_start_codes:\n",
    "        cat = events_data.loc[events_data.code == fsc, 'stop_cat']\\\n",
    "            .unique()[0]\n",
    "        fs_cats += tuple([cat])\n",
    "    return fs_cats\n",
    "\n",
    "def _apply_most_common(batch_fault_start_cats):\n",
    "    batch_fault_cat_counts = batch_fault_start_cats.apply(\n",
    "        lambda x: Counter(fault for fault in x))\n",
    "\n",
    "def label_batch_fault_cats(batches, events_data):\n",
    "    batch_fault_start_cats = batches.fault_start_codes.apply(\n",
    "        get_batch_fault_start_cats, **{'events_data':grouped_events})\n",
    "    \n",
    "\n",
    "batch_fault_start_cats = batches.fault_start_codes.apply(\n",
    "        _get_batch_fault_start_cats, **{'events_data':grouped_events})"
   ]
  },
  {
   "cell_type": "code",
   "execution_count": 117,
   "metadata": {},
   "outputs": [],
   "source": [
    "cr = batch_fault_start_cats.apply(\n",
    "        lambda x: Counter(elem for elem in x)).loc[19]"
   ]
  },
  {
   "cell_type": "code",
   "execution_count": 118,
   "metadata": {},
   "outputs": [
    {
     "name": "stdout",
     "output_type": "stream",
     "text": [
      "fault 4\n",
      "grid 3\n"
     ]
    }
   ],
   "source": [
    "cur_val = 0\n",
    "for k, v in cr.items():\n",
    "    if v > cur_val:\n",
    "        \n",
    "    print(k, v)\n",
    "    "
   ]
  },
  {
   "cell_type": "code",
   "execution_count": 113,
   "metadata": {},
   "outputs": [
    {
     "data": {
      "text/plain": [
       "19      (fault, grid, grid, grid, fault, fault, fault)\n",
       "186     (fault, grid, grid, grid, fault, fault, fault)\n",
       "522     (fault, grid, grid, grid, fault, fault, fault)\n",
       "936     (fault, grid, grid, grid, fault, fault, fault)\n",
       "1196    (fault, grid, grid, grid, fault, fault, fault)\n",
       "Name: fault_start_codes, dtype: object"
      ]
     },
     "execution_count": 113,
     "metadata": {},
     "output_type": "execute_result"
    }
   ],
   "source": [
    "batch_fault_start_cats[batch_fault_start_cats == ('fault', 'grid', 'grid', 'grid', 'fault', 'fault', 'fault')]"
   ]
  },
  {
   "cell_type": "code",
   "execution_count": null,
   "metadata": {},
   "outputs": [],
   "source": [
    "\n",
    "\n",
    "def _get_batch_fault_cat_counts(batch_fault_start_cats):\n",
    "    \"\"\"\n",
    "    Gets the count of each stop_cat for each batch\n",
    "    \"\"\"\n",
    "    \n",
    "        \n",
    "        "
   ]
  },
  {
   "cell_type": "code",
   "execution_count": 92,
   "metadata": {},
   "outputs": [],
   "source": [
    "batch_fault_start_cats = batches.fault_start_codes.apply(\n",
    "        _get_batch_fault_start_cats, **{'events_data':grouped_events})"
   ]
  },
  {
   "cell_type": "code",
   "execution_count": 104,
   "metadata": {},
   "outputs": [
    {
     "data": {
      "text/plain": [
       "Counter({'fault': 2})"
      ]
     },
     "execution_count": 104,
     "metadata": {},
     "output_type": "execute_result"
    }
   ],
   "source": [
    "\n",
    "Counter(elem for elem in batch_fault_start_cats.iloc[0])\n"
   ]
  },
  {
   "cell_type": "code",
   "execution_count": 101,
   "metadata": {},
   "outputs": [
    {
     "data": {
      "text/plain": [
       "('fault', 'fault')"
      ]
     },
     "execution_count": 101,
     "metadata": {},
     "output_type": "execute_result"
    }
   ],
   "source": [
    "batch_fault_start_cats.iloc[0]"
   ]
  },
  {
   "cell_type": "code",
   "execution_count": 100,
   "metadata": {},
   "outputs": [
    {
     "ename": "TypeError",
     "evalue": "descriptor 'count' of 'tuple' object needs an argument",
     "output_type": "error",
     "traceback": [
      "\u001b[1;31m---------------------------------------------------------------------------\u001b[0m",
      "\u001b[1;31mTypeError\u001b[0m                                 Traceback (most recent call last)",
      "\u001b[1;32m<ipython-input-100-f393869a2ad7>\u001b[0m in \u001b[0;36m<module>\u001b[1;34m\u001b[0m\n\u001b[1;32m----> 1\u001b[1;33m \u001b[0mtuple\u001b[0m\u001b[1;33m.\u001b[0m\u001b[0mcount\u001b[0m\u001b[1;33m(\u001b[0m\u001b[1;33m)\u001b[0m\u001b[1;33m\u001b[0m\u001b[1;33m\u001b[0m\u001b[0m\n\u001b[0m",
      "\u001b[1;31mTypeError\u001b[0m: descriptor 'count' of 'tuple' object needs an argument"
     ]
    }
   ],
   "source": [
    "tuple.count()"
   ]
  },
  {
   "cell_type": "code",
   "execution_count": 59,
   "metadata": {},
   "outputs": [
    {
     "data": {
      "text/plain": [
       "array([{'fault'}, {'sensor'}, {'maintenance'}, ..., {'test'}, {'test'},\n",
       "       {'fault'}], dtype=object)"
      ]
     },
     "execution_count": 59,
     "metadata": {},
     "output_type": "execute_result"
    }
   ],
   "source": [
    "batches.fault_start_cats.values"
   ]
  }
 ],
 "metadata": {
  "kernelspec": {
   "display_name": "Python 3",
   "language": "python",
   "name": "python3"
  },
  "language_info": {
   "codemirror_mode": {
    "name": "ipython",
    "version": 3
   },
   "file_extension": ".py",
   "mimetype": "text/x-python",
   "name": "python",
   "nbconvert_exporter": "python",
   "pygments_lexer": "ipython3",
   "version": "3.7.4"
  }
 },
 "nbformat": 4,
 "nbformat_minor": 4
}
